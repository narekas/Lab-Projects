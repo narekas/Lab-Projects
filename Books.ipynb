{
  "nbformat": 4,
  "nbformat_minor": 0,
  "metadata": {
    "colab": {
      "provenance": [],
      "collapsed_sections": [],
      "authorship_tag": "ABX9TyOKEc/8anvqRKfp6/I+yeIr",
      "include_colab_link": true
    },
    "kernelspec": {
      "name": "python3",
      "display_name": "Python 3"
    },
    "language_info": {
      "name": "python"
    }
  },
  "cells": [
    {
      "cell_type": "markdown",
      "metadata": {
        "id": "view-in-github",
        "colab_type": "text"
      },
      "source": [
        "<a href=\"https://colab.research.google.com/github/narekas/Lab-Projects/blob/main/Books.ipynb\" target=\"_parent\"><img src=\"https://colab.research.google.com/assets/colab-badge.svg\" alt=\"Open In Colab\"/></a>"
      ]
    },
    {
      "cell_type": "markdown",
      "source": [
        "# Data\n",
        "\n",
        "https://drive.google.com/file/d/1YR3vNAppfDR2nV0JMTezwF42bHDW47lM/view?usp=sharing\n",
        "\n",
        "https://drive.google.com/file/d/1NR6OzXti0RYWyL-3E_Kj9Vv7zOh-Km9p/view?usp=sharing\n",
        "\n"
      ],
      "metadata": {
        "id": "3VmoH18P54ib"
      }
    },
    {
      "cell_type": "code",
      "source": [
        "! gdown --id 1YR3vNAppfDR2nV0JMTezwF42bHDW47lM\n",
        "! gdown --id 1NR6OzXti0RYWyL-3E_Kj9Vv7zOh-Km9p"
      ],
      "metadata": {
        "id": "DbiXv31u-ms1"
      },
      "execution_count": null,
      "outputs": []
    },
    {
      "cell_type": "code",
      "source": [
        "import pandas as pd"
      ],
      "metadata": {
        "id": "x86mcoCf87Oh"
      },
      "execution_count": 2,
      "outputs": []
    },
    {
      "cell_type": "code",
      "source": [
        "df_zan = pd.read_csv('/content/zangak.csv')\n",
        "df_noy = pd.read_csv('/content/noyantapan.csv')"
      ],
      "metadata": {
        "id": "T-07mWWX9XIR"
      },
      "execution_count": 3,
      "outputs": []
    },
    {
      "cell_type": "code",
      "source": [
        "df_zan"
      ],
      "metadata": {
        "id": "WAbbBN8_9yVw"
      },
      "execution_count": null,
      "outputs": []
    },
    {
      "cell_type": "code",
      "source": [
        "df_noy"
      ],
      "metadata": {
        "id": "fw5Y69st-Kke"
      },
      "execution_count": null,
      "outputs": []
    },
    {
      "cell_type": "markdown",
      "source": [
        "# 1. Which book prices vary the most across stores?"
      ],
      "metadata": {
        "id": "PmprKBec-Wep"
      }
    },
    {
      "cell_type": "code",
      "source": [
        "df_zan[['title', 'price']]"
      ],
      "metadata": {
        "id": "W9FbEINhBFjl"
      },
      "execution_count": null,
      "outputs": []
    }
  ]
}