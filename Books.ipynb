{
  "nbformat": 4,
  "nbformat_minor": 0,
  "metadata": {
    "colab": {
      "provenance": [],
      "authorship_tag": "ABX9TyPul1N0T9Y2LiUzN6qgN+vr",
      "include_colab_link": true
    },
    "kernelspec": {
      "name": "python3",
      "display_name": "Python 3"
    },
    "language_info": {
      "name": "python"
    }
  },
  "cells": [
    {
      "cell_type": "markdown",
      "metadata": {
        "id": "view-in-github",
        "colab_type": "text"
      },
      "source": [
        "<a href=\"https://colab.research.google.com/github/narekas/Lab-Projects/blob/main/Books.ipynb\" target=\"_parent\"><img src=\"https://colab.research.google.com/assets/colab-badge.svg\" alt=\"Open In Colab\"/></a>"
      ]
    },
    {
      "cell_type": "markdown",
      "source": [
        "# Data\n",
        "\n",
        "https://drive.google.com/file/d/1YR3vNAppfDR2nV0JMTezwF42bHDW47lM/view?usp=sharing\n",
        "\n",
        "https://drive.google.com/file/d/1NR6OzXti0RYWyL-3E_Kj9Vv7zOh-Km9p/view?usp=sharing\n",
        "\n"
      ],
      "metadata": {
        "id": "3VmoH18P54ib"
      }
    },
    {
      "cell_type": "code",
      "source": [
        "! gdown --id 1YR3vNAppfDR2nV0JMTezwF42bHDW47lM\n",
        "! gdown --id 1NR6OzXti0RYWyL-3E_Kj9Vv7zOh-Km9p"
      ],
      "metadata": {
        "id": "DbiXv31u-ms1",
        "colab": {
          "base_uri": "https://localhost:8080/"
        },
        "outputId": "47df0207-e422-4be6-c32d-fa697b6c758e"
      },
      "execution_count": 1,
      "outputs": [
        {
          "output_type": "stream",
          "name": "stdout",
          "text": [
            "/usr/local/lib/python3.7/dist-packages/gdown/cli.py:131: FutureWarning: Option `--id` was deprecated in version 4.3.1 and will be removed in 5.0. You don't need to pass it anymore to use a file ID.\n",
            "  category=FutureWarning,\n",
            "Downloading...\n",
            "From: https://drive.google.com/uc?id=1YR3vNAppfDR2nV0JMTezwF42bHDW47lM\n",
            "To: /content/zangak.csv\n",
            "100% 4.98M/4.98M [00:00<00:00, 199MB/s]\n",
            "/usr/local/lib/python3.7/dist-packages/gdown/cli.py:131: FutureWarning: Option `--id` was deprecated in version 4.3.1 and will be removed in 5.0. You don't need to pass it anymore to use a file ID.\n",
            "  category=FutureWarning,\n",
            "Downloading...\n",
            "From: https://drive.google.com/uc?id=1NR6OzXti0RYWyL-3E_Kj9Vv7zOh-Km9p\n",
            "To: /content/noyantapan.csv\n",
            "100% 1.75M/1.75M [00:00<00:00, 165MB/s]\n"
          ]
        }
      ]
    },
    {
      "cell_type": "code",
      "source": [],
      "metadata": {
        "id": "s4jcrubJ7R0n"
      },
      "execution_count": null,
      "outputs": []
    }
  ]
}