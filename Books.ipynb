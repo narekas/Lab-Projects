{
  "nbformat": 4,
  "nbformat_minor": 0,
  "metadata": {
    "colab": {
      "provenance": [],
      "collapsed_sections": [],
      "authorship_tag": "ABX9TyOpZfdWS36b/E5BetaTrkFY",
      "include_colab_link": true
    },
    "kernelspec": {
      "name": "python3",
      "display_name": "Python 3"
    },
    "language_info": {
      "name": "python"
    }
  },
  "cells": [
    {
      "cell_type": "markdown",
      "metadata": {
        "id": "view-in-github",
        "colab_type": "text"
      },
      "source": [
        "<a href=\"https://colab.research.google.com/github/narekas/Lab-Projects/blob/main/Books.ipynb\" target=\"_parent\"><img src=\"https://colab.research.google.com/assets/colab-badge.svg\" alt=\"Open In Colab\"/></a>"
      ]
    },
    {
      "cell_type": "markdown",
      "source": [
        "# Data\n",
        "\n",
        "https://drive.google.com/file/d/1YR3vNAppfDR2nV0JMTezwF42bHDW47lM/view?usp=sharing\n",
        "\n",
        "https://drive.google.com/file/d/1NR6OzXti0RYWyL-3E_Kj9Vv7zOh-Km9p/view?usp=sharing\n",
        "\n"
      ],
      "metadata": {
        "id": "3VmoH18P54ib"
      }
    },
    {
      "cell_type": "code",
      "source": [
        "! gdown --id 1YR3vNAppfDR2nV0JMTezwF42bHDW47lM\n",
        "! gdown --id 1NR6OzXti0RYWyL-3E_Kj9Vv7zOh-Km9p"
      ],
      "metadata": {
        "id": "DbiXv31u-ms1"
      },
      "execution_count": null,
      "outputs": []
    },
    {
      "cell_type": "code",
      "source": [
        "import pandas as pd\n",
        "import matplotlib.pyplot as plt\n",
        "import seaborn as sys\n",
        "plt.style.use('dark_background')"
      ],
      "metadata": {
        "id": "x86mcoCf87Oh"
      },
      "execution_count": 23,
      "outputs": []
    },
    {
      "cell_type": "code",
      "source": [
        "df_zan = pd.read_csv('/content/zangak.csv')\n",
        "df_noy = pd.read_csv('/content/noyantapan.csv')"
      ],
      "metadata": {
        "id": "T-07mWWX9XIR"
      },
      "execution_count": 22,
      "outputs": []
    },
    {
      "cell_type": "code",
      "source": [
        "df_zan.columns"
      ],
      "metadata": {
        "id": "WAbbBN8_9yVw"
      },
      "execution_count": null,
      "outputs": []
    },
    {
      "cell_type": "code",
      "source": [
        "df_noy.columns"
      ],
      "metadata": {
        "id": "fw5Y69st-Kke"
      },
      "execution_count": null,
      "outputs": []
    },
    {
      "cell_type": "code",
      "source": [
        "df_zan = df_zan[['title', 'author', 'publisher', 'price', 'language', 'pages', 'genre',\n",
        "       'category', 'target', 'EAN', 'code', 'year', 'url']]"
      ],
      "metadata": {
        "id": "HR6C2VuDxgzt"
      },
      "execution_count": 6,
      "outputs": []
    },
    {
      "cell_type": "code",
      "source": [
        "df_noy = df_noy[['title', 'author', 'price', 'language', 'pages', 'genre', 'code',\n",
        "       'year', 'url']]"
      ],
      "metadata": {
        "id": "Uo48nF4PxhIf"
      },
      "execution_count": 7,
      "outputs": []
    },
    {
      "cell_type": "markdown",
      "source": [
        "# Which language books are featured the most?"
      ],
      "metadata": {
        "id": "PmprKBec-Wep"
      }
    },
    {
      "cell_type": "code",
      "source": [
        "df_zan['language'].value_counts().head(9)"
      ],
      "metadata": {
        "id": "W9FbEINhBFjl"
      },
      "execution_count": null,
      "outputs": []
    },
    {
      "cell_type": "code",
      "source": [
        "df_noy['language'].value_counts().head(4)"
      ],
      "metadata": {
        "id": "6b65vvPdp_Vu"
      },
      "execution_count": null,
      "outputs": []
    },
    {
      "cell_type": "markdown",
      "source": [
        "# What part of children's books is Armenian?"
      ],
      "metadata": {
        "id": "CYLTnuu1qOrx"
      }
    },
    {
      "cell_type": "code",
      "source": [
        "df_zan.groupby('genre')['language'].value_counts().head(27).tail(8)"
      ],
      "metadata": {
        "id": "B9KHN8jeqcN1"
      },
      "execution_count": null,
      "outputs": []
    },
    {
      "cell_type": "code",
      "source": [
        "df_noy.groupby('genre')['language'].value_counts().tail(25).head(2)"
      ],
      "metadata": {
        "id": "6qATQG0GqeyN"
      },
      "execution_count": null,
      "outputs": []
    },
    {
      "cell_type": "markdown",
      "source": [
        "# Which authors are more popular?"
      ],
      "metadata": {
        "id": "tWJq4X9Rqmo1"
      }
    },
    {
      "cell_type": "code",
      "source": [
        "df_zan['author'].value_counts().head(15)"
      ],
      "metadata": {
        "id": "kv_XVJ_Sqz-C"
      },
      "execution_count": null,
      "outputs": []
    },
    {
      "cell_type": "code",
      "source": [
        "df_noy['author'].value_counts().head(15)"
      ],
      "metadata": {
        "id": "CTrp1MMXq3Nk"
      },
      "execution_count": null,
      "outputs": []
    },
    {
      "cell_type": "markdown",
      "source": [
        "# Which ones have a large share in the range?\n",
        "# the publishers"
      ],
      "metadata": {
        "id": "yYFhT3tDq5TB"
      }
    },
    {
      "cell_type": "code",
      "source": [
        "df_zan['publisher'].value_counts().head(15)"
      ],
      "metadata": {
        "id": "-PAREK33rIU-"
      },
      "execution_count": null,
      "outputs": []
    },
    {
      "cell_type": "markdown",
      "source": [
        "# How is the price distribution of books described?"
      ],
      "metadata": {
        "id": "acda_18LrMiQ"
      }
    },
    {
      "cell_type": "code",
      "source": [
        "df_zan['price'].hist()"
      ],
      "metadata": {
        "id": "0kSQ0V8brnHN"
      },
      "execution_count": null,
      "outputs": []
    },
    {
      "cell_type": "code",
      "source": [
        "df_noy['price'].hist()"
      ],
      "metadata": {
        "id": "O-2wtYO7rpt9"
      },
      "execution_count": null,
      "outputs": []
    },
    {
      "cell_type": "markdown",
      "source": [
        "# What genre of books dominate sales?\n"
      ],
      "metadata": {
        "id": "qv8m02WxrvOt"
      }
    },
    {
      "cell_type": "code",
      "source": [
        "df_zan['genre'].value_counts().head(4).plot()"
      ],
      "metadata": {
        "id": "yyljKi2K1vrH"
      },
      "execution_count": null,
      "outputs": []
    },
    {
      "cell_type": "markdown",
      "source": [
        "# Do the prices vary by book age group?\n"
      ],
      "metadata": {
        "id": "Lr6NLaBJIsz2"
      }
    },
    {
      "cell_type": "code",
      "source": [
        "df_zan.groupby('target')['price'].value_counts(ascending=False).plot()"
      ],
      "metadata": {
        "id": "cfA9ECQ5IugW"
      },
      "execution_count": null,
      "outputs": []
    },
    {
      "cell_type": "markdown",
      "source": [
        "# Which books have the most editions, prices?\n"
      ],
      "metadata": {
        "id": "28nOH1TD41x8"
      }
    },
    {
      "cell_type": "code",
      "source": [
        "df_zan.groupby('title')['publisher'].value_counts(ascending=False).plot()"
      ],
      "metadata": {
        "id": "d5K9jMSoE-9F"
      },
      "execution_count": null,
      "outputs": []
    },
    {
      "cell_type": "markdown",
      "source": [
        "# Which book prices vary the most across stores?"
      ],
      "metadata": {
        "id": "KLBAEz33FXnN"
      }
    },
    {
      "cell_type": "code",
      "source": [
        "df_zan.groupby('title')['price'].value_counts(ascending=False).plot()"
      ],
      "metadata": {
        "id": "XQhyBfxmFzeA"
      },
      "execution_count": null,
      "outputs": []
    },
    {
      "cell_type": "code",
      "source": [
        "df_noy.groupby('title')['price'].value_counts(ascending=False).plot()"
      ],
      "metadata": {
        "id": "P03W8n3vF52t"
      },
      "execution_count": null,
      "outputs": []
    },
    {
      "cell_type": "markdown",
      "source": [
        "# For what genre of books is the difference between price and number of pages?\n",
        "# the strongest linear relationship"
      ],
      "metadata": {
        "id": "reBTsookF8dc"
      }
    },
    {
      "cell_type": "code",
      "source": [
        "df_zan[['price', 'pages']].corr()"
      ],
      "metadata": {
        "id": "8NMEZaXbGYgT"
      },
      "execution_count": null,
      "outputs": []
    },
    {
      "cell_type": "code",
      "source": [
        "df_noy[['price', 'pages']].corr()"
      ],
      "metadata": {
        "id": "ae0S3CafGv6c"
      },
      "execution_count": null,
      "outputs": []
    },
    {
      "cell_type": "markdown",
      "source": [
        "# How does the average price vary by book language?\n"
      ],
      "metadata": {
        "id": "Axid4AedG-37"
      }
    },
    {
      "cell_type": "code",
      "source": [
        "df_zan.groupby('language')['price'].value_counts(ascending=False).plot()"
      ],
      "metadata": {
        "id": "I94ydwmlHXY1"
      },
      "execution_count": null,
      "outputs": []
    },
    {
      "cell_type": "code",
      "source": [
        "df_noy.groupby('language')['price'].value_counts(ascending=False).plot()"
      ],
      "metadata": {
        "id": "YVOdmF6CHaG5"
      },
      "execution_count": null,
      "outputs": []
    },
    {
      "cell_type": "markdown",
      "source": [
        "# In which genre are Armenian and other most different?\n",
        "# Average prices of language books"
      ],
      "metadata": {
        "id": "n55vi6ziHidU"
      }
    },
    {
      "cell_type": "code",
      "source": [
        "df_zan.groupby('genre',)['price'].value_counts().plot()"
      ],
      "metadata": {
        "id": "20YHf0S_HyLn"
      },
      "execution_count": null,
      "outputs": []
    },
    {
      "cell_type": "code",
      "source": [
        "df_noy.groupby('genre',)['price'].value_counts().plot()"
      ],
      "metadata": {
        "id": "yrnNLLaoIBQy"
      },
      "execution_count": null,
      "outputs": []
    }
  ]
}