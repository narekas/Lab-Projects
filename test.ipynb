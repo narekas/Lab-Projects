{
  "nbformat": 4,
  "nbformat_minor": 0,
  "metadata": {
    "colab": {
      "provenance": [],
      "authorship_tag": "ABX9TyOGJbpc6f0CG1cZfFV2iJ9X",
      "include_colab_link": true
    },
    "kernelspec": {
      "name": "python3",
      "display_name": "Python 3"
    },
    "language_info": {
      "name": "python"
    }
  },
  "cells": [
    {
      "cell_type": "markdown",
      "metadata": {
        "id": "view-in-github",
        "colab_type": "text"
      },
      "source": [
        "<a href=\"https://colab.research.google.com/github/narekas/Lab-Projects/blob/main/test.ipynb\" target=\"_parent\"><img src=\"https://colab.research.google.com/assets/colab-badge.svg\" alt=\"Open In Colab\"/></a>"
      ]
    },
    {
      "cell_type": "code",
      "execution_count": null,
      "metadata": {
        "id": "pX0uqT5E2a0G"
      },
      "outputs": [],
      "source": [
        "! gdown --id 1YR3vNAppfDR2nV0JMTezwF42bHDW47lM\n",
        "! gdown --id 1NR6OzXti0RYWyL-3E_Kj9Vv7zOh-Km9p"
      ]
    },
    {
      "cell_type": "code",
      "source": [
        "import pandas as pd\n",
        "import matplotlib.pyplot as plt\n",
        "plt.style.use('dark_background')"
      ],
      "metadata": {
        "id": "fiKf1kiUvVvr"
      },
      "execution_count": 33,
      "outputs": []
    },
    {
      "cell_type": "code",
      "source": [
        "df_zan = pd.read_csv('/content/zangak.csv')\n",
        "df_noy = pd.read_csv('/content/noyantapan.csv')"
      ],
      "metadata": {
        "id": "iFrI-fvwvcVZ"
      },
      "execution_count": 3,
      "outputs": []
    },
    {
      "cell_type": "code",
      "source": [
        "df_zan"
      ],
      "metadata": {
        "id": "wr8_oAVOvhpq"
      },
      "execution_count": null,
      "outputs": []
    },
    {
      "cell_type": "code",
      "source": [
        "df_noy"
      ],
      "metadata": {
        "id": "ApCFVVKSvizZ"
      },
      "execution_count": null,
      "outputs": []
    },
    {
      "cell_type": "code",
      "source": [
        "df_noy.columns"
      ],
      "metadata": {
        "id": "QYYO18qQvr5Y"
      },
      "execution_count": null,
      "outputs": []
    },
    {
      "cell_type": "code",
      "source": [
        "df_noy = df_noy[['title', 'author', 'price', 'language', 'pages', 'genre', 'code',\n",
        "       'year', 'url']]"
      ],
      "metadata": {
        "id": "C5zxltQOwz82"
      },
      "execution_count": 7,
      "outputs": []
    },
    {
      "cell_type": "code",
      "source": [
        "df_noy"
      ],
      "metadata": {
        "id": "idkHwyl-xDDT"
      },
      "execution_count": null,
      "outputs": []
    },
    {
      "cell_type": "code",
      "source": [
        "df_zan.columns"
      ],
      "metadata": {
        "id": "ashanqxExEVh"
      },
      "execution_count": null,
      "outputs": []
    },
    {
      "cell_type": "code",
      "source": [
        "df_zan = df_zan[['title', 'author', 'publisher', 'price', 'language', 'pages', 'genre',\n",
        "       'category', 'target', 'EAN', 'code', 'year', 'url']]"
      ],
      "metadata": {
        "id": "jfuG19vHxIN-"
      },
      "execution_count": 13,
      "outputs": []
    },
    {
      "cell_type": "code",
      "source": [
        "df_zan"
      ],
      "metadata": {
        "colab": {
          "base_uri": "https://localhost:8080/",
          "height": 659
        },
        "id": "e9EyXwwxxUOM",
        "outputId": "01a76ca6-f22e-4ea3-b43b-955341186bf6"
      },
      "execution_count": 41,
      "outputs": [
        {
          "output_type": "execute_result",
          "data": {
            "text/plain": [
              "                                                   title              author  \\\n",
              "0                             Փոքրիկ մողէսի այցելութիւնը  Արմինէ Կունդակջեան   \n",
              "1                                    Գոբլինը և ընկերները      Նարեկ Սերոբյան   \n",
              "2                                       Քո երկրի դեսպանը       Ռուբեն Ֆիլյան   \n",
              "3                                       Քո երկրի դեսպանը       Ռուբեն Ֆիլյան   \n",
              "4                                                 Նարեկը           Ադի Ալյեն   \n",
              "...                                                  ...                 ...   \n",
              "18359                                             Essays         Ջորջ Օրուել   \n",
              "18360                                 The Woman in White       Ուիլկի Քոլինզ   \n",
              "18361                                       Animals life   Շառլոթ Ուլենբրուք   \n",
              "18362  1001 Natural Wonders: You Must See Before You Die         Մայքլ Բրայթ   \n",
              "18363                               Оскорбленные чувства        Ալիսա Գանիևա   \n",
              "\n",
              "                          publisher       price       language pages  \\\n",
              "0       Հեղինակային հրատարակություն   1500 դրամ  Արևմտահայերեն    40   \n",
              "1       Հեղինակային հրատարակություն   2500 դրամ        Հայերեն    50   \n",
              "2      «ԱՐԻ» ԳՐԱԿԱՆՈՒԹՅԱՆ Հիմնադրամ   3600 դրամ        Հայերեն   135   \n",
              "3      «ԱՐԻ» ԳՐԱԿԱՆՈՒԹՅԱՆ Հիմնադրամ   4200 դրամ        Հայերեն   135   \n",
              "4       Հեղինակային հրատարակություն   5000 դրամ        Հայերեն   160   \n",
              "...                             ...         ...            ...   ...   \n",
              "18359          Penguin Random House   6000 դրամ       Անգլերեն   494   \n",
              "18360                    Real Reads   4800 դրամ       Անգլերեն    64   \n",
              "18361            Dorling Kindersley  11000 դրամ       Անգլերեն   498   \n",
              "18362                       Octopus  12500 դրամ       Անգլերեն   360   \n",
              "18363        Редакция Елены Шубиной   4500 դրամ       Ռուսերեն   320   \n",
              "\n",
              "                  genre                         category target  \\\n",
              "0              Մանկական                     Պատկերագրքեր     3+   \n",
              "1             Պատանեկան                    Գեղարվեստական     4+   \n",
              "2         Գեղարվեստական        Հայ դասական գրականություն    16+   \n",
              "3         Գեղարվեստական        Հայ դասական գրականություն    16+   \n",
              "4      Ոչ գեղարվեստական          Կենսագրություն և հուշեր    16+   \n",
              "...                 ...                              ...    ...   \n",
              "18359  Ոչ գեղարվեստական              Հրապարակախոսություն    16+   \n",
              "18360         Պատանեկան                    Գեղարվեստական    12+   \n",
              "18361         Պատանեկան                  Հանրագիտարաններ    12+   \n",
              "18362  Ոչ գեղարվեստական                            Հոբբի    16+   \n",
              "18363     Գեղարվեստական  Արտասահմանյան ժամանակակից արձակ    16+   \n",
              "\n",
              "                 EAN   code  year  \\\n",
              "0      9780578351797  55899  2022   \n",
              "1      9789939041193  56276  2022   \n",
              "2      9789939928517  56282  2022   \n",
              "3      2002001000001  56281  2022   \n",
              "4      9789939689692  56277  2022   \n",
              "...              ...    ...   ...   \n",
              "18359  9780141183060  35377  2013   \n",
              "18360  9781906230500  35369  2014   \n",
              "18361  9781405322157  35354  2008   \n",
              "18362  9781844036745  35352  2010   \n",
              "18363  9785171100421  35119  2018   \n",
              "\n",
              "                                                     url  \n",
              "0      https://zangakbookstore.am/poqrik-mokhesi-ayts...  \n",
              "1        https://zangakbookstore.am/gobliny-ev-ynkernery  \n",
              "2          https://zangakbookstore.am/qo-erkri-despany-1  \n",
              "3            https://zangakbookstore.am/qo-erkri-despany  \n",
              "4                      https://zangakbookstore.am/nareky  \n",
              "...                                                  ...  \n",
              "18359                  https://zangakbookstore.am/essays  \n",
              "18360      https://zangakbookstore.am/the-woman-in-white  \n",
              "18361            https://zangakbookstore.am/animals-life  \n",
              "18362  https://zangakbookstore.am/1001-natural-wonder...  \n",
              "18363   https://zangakbookstore.am/oskorblennie-chuvstva  \n",
              "\n",
              "[18364 rows x 13 columns]"
            ],
            "text/html": [
              "\n",
              "  <div id=\"df-182b5892-193a-4e6c-90d4-6740654a7d6f\">\n",
              "    <div class=\"colab-df-container\">\n",
              "      <div>\n",
              "<style scoped>\n",
              "    .dataframe tbody tr th:only-of-type {\n",
              "        vertical-align: middle;\n",
              "    }\n",
              "\n",
              "    .dataframe tbody tr th {\n",
              "        vertical-align: top;\n",
              "    }\n",
              "\n",
              "    .dataframe thead th {\n",
              "        text-align: right;\n",
              "    }\n",
              "</style>\n",
              "<table border=\"1\" class=\"dataframe\">\n",
              "  <thead>\n",
              "    <tr style=\"text-align: right;\">\n",
              "      <th></th>\n",
              "      <th>title</th>\n",
              "      <th>author</th>\n",
              "      <th>publisher</th>\n",
              "      <th>price</th>\n",
              "      <th>language</th>\n",
              "      <th>pages</th>\n",
              "      <th>genre</th>\n",
              "      <th>category</th>\n",
              "      <th>target</th>\n",
              "      <th>EAN</th>\n",
              "      <th>code</th>\n",
              "      <th>year</th>\n",
              "      <th>url</th>\n",
              "    </tr>\n",
              "  </thead>\n",
              "  <tbody>\n",
              "    <tr>\n",
              "      <th>0</th>\n",
              "      <td>Փոքրիկ մողէսի այցելութիւնը</td>\n",
              "      <td>Արմինէ Կունդակջեան</td>\n",
              "      <td>Հեղինակային հրատարակություն</td>\n",
              "      <td>1500 դրամ</td>\n",
              "      <td>Արևմտահայերեն</td>\n",
              "      <td>40</td>\n",
              "      <td>Մանկական</td>\n",
              "      <td>Պատկերագրքեր</td>\n",
              "      <td>3+</td>\n",
              "      <td>9780578351797</td>\n",
              "      <td>55899</td>\n",
              "      <td>2022</td>\n",
              "      <td>https://zangakbookstore.am/poqrik-mokhesi-ayts...</td>\n",
              "    </tr>\n",
              "    <tr>\n",
              "      <th>1</th>\n",
              "      <td>Գոբլինը և ընկերները</td>\n",
              "      <td>Նարեկ Սերոբյան</td>\n",
              "      <td>Հեղինակային հրատարակություն</td>\n",
              "      <td>2500 դրամ</td>\n",
              "      <td>Հայերեն</td>\n",
              "      <td>50</td>\n",
              "      <td>Պատանեկան</td>\n",
              "      <td>Գեղարվեստական</td>\n",
              "      <td>4+</td>\n",
              "      <td>9789939041193</td>\n",
              "      <td>56276</td>\n",
              "      <td>2022</td>\n",
              "      <td>https://zangakbookstore.am/gobliny-ev-ynkernery</td>\n",
              "    </tr>\n",
              "    <tr>\n",
              "      <th>2</th>\n",
              "      <td>Քո երկրի դեսպանը</td>\n",
              "      <td>Ռուբեն Ֆիլյան</td>\n",
              "      <td>«ԱՐԻ» ԳՐԱԿԱՆՈՒԹՅԱՆ Հիմնադրամ</td>\n",
              "      <td>3600 դրամ</td>\n",
              "      <td>Հայերեն</td>\n",
              "      <td>135</td>\n",
              "      <td>Գեղարվեստական</td>\n",
              "      <td>Հայ դասական գրականություն</td>\n",
              "      <td>16+</td>\n",
              "      <td>9789939928517</td>\n",
              "      <td>56282</td>\n",
              "      <td>2022</td>\n",
              "      <td>https://zangakbookstore.am/qo-erkri-despany-1</td>\n",
              "    </tr>\n",
              "    <tr>\n",
              "      <th>3</th>\n",
              "      <td>Քո երկրի դեսպանը</td>\n",
              "      <td>Ռուբեն Ֆիլյան</td>\n",
              "      <td>«ԱՐԻ» ԳՐԱԿԱՆՈՒԹՅԱՆ Հիմնադրամ</td>\n",
              "      <td>4200 դրամ</td>\n",
              "      <td>Հայերեն</td>\n",
              "      <td>135</td>\n",
              "      <td>Գեղարվեստական</td>\n",
              "      <td>Հայ դասական գրականություն</td>\n",
              "      <td>16+</td>\n",
              "      <td>2002001000001</td>\n",
              "      <td>56281</td>\n",
              "      <td>2022</td>\n",
              "      <td>https://zangakbookstore.am/qo-erkri-despany</td>\n",
              "    </tr>\n",
              "    <tr>\n",
              "      <th>4</th>\n",
              "      <td>Նարեկը</td>\n",
              "      <td>Ադի Ալյեն</td>\n",
              "      <td>Հեղինակային հրատարակություն</td>\n",
              "      <td>5000 դրամ</td>\n",
              "      <td>Հայերեն</td>\n",
              "      <td>160</td>\n",
              "      <td>Ոչ գեղարվեստական</td>\n",
              "      <td>Կենսագրություն և հուշեր</td>\n",
              "      <td>16+</td>\n",
              "      <td>9789939689692</td>\n",
              "      <td>56277</td>\n",
              "      <td>2022</td>\n",
              "      <td>https://zangakbookstore.am/nareky</td>\n",
              "    </tr>\n",
              "    <tr>\n",
              "      <th>...</th>\n",
              "      <td>...</td>\n",
              "      <td>...</td>\n",
              "      <td>...</td>\n",
              "      <td>...</td>\n",
              "      <td>...</td>\n",
              "      <td>...</td>\n",
              "      <td>...</td>\n",
              "      <td>...</td>\n",
              "      <td>...</td>\n",
              "      <td>...</td>\n",
              "      <td>...</td>\n",
              "      <td>...</td>\n",
              "      <td>...</td>\n",
              "    </tr>\n",
              "    <tr>\n",
              "      <th>18359</th>\n",
              "      <td>Essays</td>\n",
              "      <td>Ջորջ Օրուել</td>\n",
              "      <td>Penguin Random House</td>\n",
              "      <td>6000 դրամ</td>\n",
              "      <td>Անգլերեն</td>\n",
              "      <td>494</td>\n",
              "      <td>Ոչ գեղարվեստական</td>\n",
              "      <td>Հրապարակախոսություն</td>\n",
              "      <td>16+</td>\n",
              "      <td>9780141183060</td>\n",
              "      <td>35377</td>\n",
              "      <td>2013</td>\n",
              "      <td>https://zangakbookstore.am/essays</td>\n",
              "    </tr>\n",
              "    <tr>\n",
              "      <th>18360</th>\n",
              "      <td>The Woman in White</td>\n",
              "      <td>Ուիլկի Քոլինզ</td>\n",
              "      <td>Real Reads</td>\n",
              "      <td>4800 դրամ</td>\n",
              "      <td>Անգլերեն</td>\n",
              "      <td>64</td>\n",
              "      <td>Պատանեկան</td>\n",
              "      <td>Գեղարվեստական</td>\n",
              "      <td>12+</td>\n",
              "      <td>9781906230500</td>\n",
              "      <td>35369</td>\n",
              "      <td>2014</td>\n",
              "      <td>https://zangakbookstore.am/the-woman-in-white</td>\n",
              "    </tr>\n",
              "    <tr>\n",
              "      <th>18361</th>\n",
              "      <td>Animals life</td>\n",
              "      <td>Շառլոթ Ուլենբրուք</td>\n",
              "      <td>Dorling Kindersley</td>\n",
              "      <td>11000 դրամ</td>\n",
              "      <td>Անգլերեն</td>\n",
              "      <td>498</td>\n",
              "      <td>Պատանեկան</td>\n",
              "      <td>Հանրագիտարաններ</td>\n",
              "      <td>12+</td>\n",
              "      <td>9781405322157</td>\n",
              "      <td>35354</td>\n",
              "      <td>2008</td>\n",
              "      <td>https://zangakbookstore.am/animals-life</td>\n",
              "    </tr>\n",
              "    <tr>\n",
              "      <th>18362</th>\n",
              "      <td>1001 Natural Wonders: You Must See Before You Die</td>\n",
              "      <td>Մայքլ Բրայթ</td>\n",
              "      <td>Octopus</td>\n",
              "      <td>12500 դրամ</td>\n",
              "      <td>Անգլերեն</td>\n",
              "      <td>360</td>\n",
              "      <td>Ոչ գեղարվեստական</td>\n",
              "      <td>Հոբբի</td>\n",
              "      <td>16+</td>\n",
              "      <td>9781844036745</td>\n",
              "      <td>35352</td>\n",
              "      <td>2010</td>\n",
              "      <td>https://zangakbookstore.am/1001-natural-wonder...</td>\n",
              "    </tr>\n",
              "    <tr>\n",
              "      <th>18363</th>\n",
              "      <td>Оскорбленные чувства</td>\n",
              "      <td>Ալիսա Գանիևա</td>\n",
              "      <td>Редакция Елены Шубиной</td>\n",
              "      <td>4500 դրամ</td>\n",
              "      <td>Ռուսերեն</td>\n",
              "      <td>320</td>\n",
              "      <td>Գեղարվեստական</td>\n",
              "      <td>Արտասահմանյան ժամանակակից արձակ</td>\n",
              "      <td>16+</td>\n",
              "      <td>9785171100421</td>\n",
              "      <td>35119</td>\n",
              "      <td>2018</td>\n",
              "      <td>https://zangakbookstore.am/oskorblennie-chuvstva</td>\n",
              "    </tr>\n",
              "  </tbody>\n",
              "</table>\n",
              "<p>18364 rows × 13 columns</p>\n",
              "</div>\n",
              "      <button class=\"colab-df-convert\" onclick=\"convertToInteractive('df-182b5892-193a-4e6c-90d4-6740654a7d6f')\"\n",
              "              title=\"Convert this dataframe to an interactive table.\"\n",
              "              style=\"display:none;\">\n",
              "        \n",
              "  <svg xmlns=\"http://www.w3.org/2000/svg\" height=\"24px\"viewBox=\"0 0 24 24\"\n",
              "       width=\"24px\">\n",
              "    <path d=\"M0 0h24v24H0V0z\" fill=\"none\"/>\n",
              "    <path d=\"M18.56 5.44l.94 2.06.94-2.06 2.06-.94-2.06-.94-.94-2.06-.94 2.06-2.06.94zm-11 1L8.5 8.5l.94-2.06 2.06-.94-2.06-.94L8.5 2.5l-.94 2.06-2.06.94zm10 10l.94 2.06.94-2.06 2.06-.94-2.06-.94-.94-2.06-.94 2.06-2.06.94z\"/><path d=\"M17.41 7.96l-1.37-1.37c-.4-.4-.92-.59-1.43-.59-.52 0-1.04.2-1.43.59L10.3 9.45l-7.72 7.72c-.78.78-.78 2.05 0 2.83L4 21.41c.39.39.9.59 1.41.59.51 0 1.02-.2 1.41-.59l7.78-7.78 2.81-2.81c.8-.78.8-2.07 0-2.86zM5.41 20L4 18.59l7.72-7.72 1.47 1.35L5.41 20z\"/>\n",
              "  </svg>\n",
              "      </button>\n",
              "      \n",
              "  <style>\n",
              "    .colab-df-container {\n",
              "      display:flex;\n",
              "      flex-wrap:wrap;\n",
              "      gap: 12px;\n",
              "    }\n",
              "\n",
              "    .colab-df-convert {\n",
              "      background-color: #E8F0FE;\n",
              "      border: none;\n",
              "      border-radius: 50%;\n",
              "      cursor: pointer;\n",
              "      display: none;\n",
              "      fill: #1967D2;\n",
              "      height: 32px;\n",
              "      padding: 0 0 0 0;\n",
              "      width: 32px;\n",
              "    }\n",
              "\n",
              "    .colab-df-convert:hover {\n",
              "      background-color: #E2EBFA;\n",
              "      box-shadow: 0px 1px 2px rgba(60, 64, 67, 0.3), 0px 1px 3px 1px rgba(60, 64, 67, 0.15);\n",
              "      fill: #174EA6;\n",
              "    }\n",
              "\n",
              "    [theme=dark] .colab-df-convert {\n",
              "      background-color: #3B4455;\n",
              "      fill: #D2E3FC;\n",
              "    }\n",
              "\n",
              "    [theme=dark] .colab-df-convert:hover {\n",
              "      background-color: #434B5C;\n",
              "      box-shadow: 0px 1px 3px 1px rgba(0, 0, 0, 0.15);\n",
              "      filter: drop-shadow(0px 1px 2px rgba(0, 0, 0, 0.3));\n",
              "      fill: #FFFFFF;\n",
              "    }\n",
              "  </style>\n",
              "\n",
              "      <script>\n",
              "        const buttonEl =\n",
              "          document.querySelector('#df-182b5892-193a-4e6c-90d4-6740654a7d6f button.colab-df-convert');\n",
              "        buttonEl.style.display =\n",
              "          google.colab.kernel.accessAllowed ? 'block' : 'none';\n",
              "\n",
              "        async function convertToInteractive(key) {\n",
              "          const element = document.querySelector('#df-182b5892-193a-4e6c-90d4-6740654a7d6f');\n",
              "          const dataTable =\n",
              "            await google.colab.kernel.invokeFunction('convertToInteractive',\n",
              "                                                     [key], {});\n",
              "          if (!dataTable) return;\n",
              "\n",
              "          const docLinkHtml = 'Like what you see? Visit the ' +\n",
              "            '<a target=\"_blank\" href=https://colab.research.google.com/notebooks/data_table.ipynb>data table notebook</a>'\n",
              "            + ' to learn more about interactive tables.';\n",
              "          element.innerHTML = '';\n",
              "          dataTable['output_type'] = 'display_data';\n",
              "          await google.colab.output.renderOutput(dataTable, element);\n",
              "          const docLink = document.createElement('div');\n",
              "          docLink.innerHTML = docLinkHtml;\n",
              "          element.appendChild(docLink);\n",
              "        }\n",
              "      </script>\n",
              "    </div>\n",
              "  </div>\n",
              "  "
            ]
          },
          "metadata": {},
          "execution_count": 41
        }
      ]
    },
    {
      "cell_type": "code",
      "source": [
        "df_noy.isna().mean().sort_values(ascending=False) * 100"
      ],
      "metadata": {
        "id": "X0uZFqtkxVqP"
      },
      "execution_count": null,
      "outputs": []
    },
    {
      "cell_type": "code",
      "source": [
        "df_zan.isna().mean().sort_values(ascending=False)  * 100"
      ],
      "metadata": {
        "id": "oMfxh_FS1rQz"
      },
      "execution_count": null,
      "outputs": []
    },
    {
      "cell_type": "code",
      "source": [
        "df_zan['price'].hist()"
      ],
      "metadata": {
        "id": "H4qU4i0C1tW_"
      },
      "execution_count": null,
      "outputs": []
    },
    {
      "cell_type": "code",
      "source": [
        "df_zan.describe()"
      ],
      "metadata": {
        "id": "JYEhOnGj370N"
      },
      "execution_count": null,
      "outputs": []
    },
    {
      "cell_type": "code",
      "source": [
        "df_zan['language'].value_counts()"
      ],
      "metadata": {
        "id": "bTtcWYEl5ttC"
      },
      "execution_count": null,
      "outputs": []
    },
    {
      "cell_type": "code",
      "source": [
        "df_noy['language'].value_counts()"
      ],
      "metadata": {
        "id": "PzxrPi-M6JqE"
      },
      "execution_count": null,
      "outputs": []
    },
    {
      "cell_type": "markdown",
      "source": [
        "#16"
      ],
      "metadata": {
        "id": "VuG2Q0H3JMin"
      }
    },
    {
      "cell_type": "code",
      "source": [
        "df_zan['publisher'].value_counts().head(15)"
      ],
      "metadata": {
        "colab": {
          "base_uri": "https://localhost:8080/"
        },
        "id": "QEEEEPA_Gzwe",
        "outputId": "29b66fe0-3e80-4f86-ee6d-eb5235f5f6b8"
      },
      "execution_count": 49,
      "outputs": [
        {
          "output_type": "execute_result",
          "data": {
            "text/plain": [
              "АСТ                            2876\n",
              "Эксмо                          2708\n",
              "Азбука                         2288\n",
              "Անտարես                         877\n",
              "Զանգակ                          744\n",
              "Հեղինակային հրատարակություն     561\n",
              "Махаон                          530\n",
              "Էդիթ Պրինտ                      401\n",
              "Альпина                         385\n",
              "Vintage                         321\n",
              "Penguin Random House            243\n",
              "Ad Marginem                     227\n",
              "Penguin                         181\n",
              "Иностранка                      169\n",
              "КоЛибри                         163\n",
              "Name: publisher, dtype: int64"
            ]
          },
          "metadata": {},
          "execution_count": 49
        }
      ]
    },
    {
      "cell_type": "markdown",
      "source": [
        "#14"
      ],
      "metadata": {
        "id": "CsGNcyo1Jt_4"
      }
    },
    {
      "cell_type": "code",
      "source": [
        "df_zan['author'].value_counts().head(15)"
      ],
      "metadata": {
        "colab": {
          "base_uri": "https://localhost:8080/"
        },
        "id": "H8qL6C_qJB__",
        "outputId": "de03f4a3-b46c-4dae-c5cb-18117a79888c"
      },
      "execution_count": 50,
      "outputs": [
        {
          "output_type": "execute_result",
          "data": {
            "text/plain": [
              "Սթիվեն Քինգ               169\n",
              "Ագաթա Քրիստի              119\n",
              "Ֆրենսիս Սքոթ Ֆիցջերալդ     94\n",
              "Ֆյոդոր Դոստոևսկի           76\n",
              "Ռեյ Բրեդբերի               74\n",
              "Հովհաննես Թումանյան        71\n",
              "Հարուկի Մուրակամի          71\n",
              "Ջեք Լոնդոն                 70\n",
              "Նիլ Գեյման                 68\n",
              "Ջոան Ռոուլինգ              66\n",
              "Էրիխ Մարիա Ռեմարկ          60\n",
              "Արթուր Կոնան Դոյլ          59\n",
              "Լև Տոլստոյ                 59\n",
              "Վլադիմիր Նաբոկով           58\n",
              "Ալեքսանդր Պուշկին          58\n",
              "Name: author, dtype: int64"
            ]
          },
          "metadata": {},
          "execution_count": 50
        }
      ]
    },
    {
      "cell_type": "code",
      "source": [
        "df_noy['author'].value_counts().head(15)"
      ],
      "metadata": {
        "colab": {
          "base_uri": "https://localhost:8080/"
        },
        "id": "PJgUleOYJcTq",
        "outputId": "056e34b1-d3d2-49ee-9f2a-cb589a24df33"
      },
      "execution_count": 53,
      "outputs": [
        {
          "output_type": "execute_result",
          "data": {
            "text/plain": [
              "Неумывакин И. П.     12\n",
              "Курдюмов Н. И.       10\n",
              "Коэльо П.            10\n",
              "Արգամ Այվազյան       10\n",
              "Верещагина И.         9\n",
              "Маккалоу К.           8\n",
              "Драйзер Т.            8\n",
              "Սոկրատ Մկրտչյան       7\n",
              "РЫЖИЙ КОТ             7\n",
              "Хемингуэй Э.          7\n",
              "Кристи Агата          7\n",
              "Михалков С.           7\n",
              "Սամվել Կարապետյան     7\n",
              "Шекспир У.            6\n",
              "ПРОФ-ПРЕСС            6\n",
              "Name: author, dtype: int64"
            ]
          },
          "metadata": {},
          "execution_count": 53
        }
      ]
    },
    {
      "cell_type": "code",
      "source": [],
      "metadata": {
        "id": "fTOxELVJKJAY"
      },
      "execution_count": null,
      "outputs": []
    }
  ]
}